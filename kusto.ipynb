{
 "cells": [
  {
   "cell_type": "code",
   "execution_count": 10,
   "metadata": {},
   "outputs": [],
   "source": [
    "from azure.kusto.data import KustoClient, KustoConnectionStringBuilder\n",
    "from azure.kusto.data.exceptions import KustoServiceError\n",
    "from azure.kusto.data.helpers import dataframe_from_result_table"
   ]
  },
  {
   "cell_type": "code",
   "execution_count": 11,
   "metadata": {},
   "outputs": [],
   "source": [
    "AAD_TENANT_ID = \"6babcaad-604b-40ac-a9d7-9fd97c0b779f\"\n",
    "KUSTO_URI = \"https://llm-runners.eastus.kusto.windows.net\"\n",
    "KUSTO_INGEST_URI = \"https://ingest-llm-runners.eastus.kusto.windows.net\"\n",
    "KUSTO_DATABASE = \"llm-runner\""
   ]
  },
  {
   "cell_type": "code",
   "execution_count": 12,
   "metadata": {},
   "outputs": [],
   "source": [
    "KCSB_DATA  = KustoConnectionStringBuilder.with_aad_user_token_authentication(KUSTO_URI,\"..----\")\n",
    "KCSB_INGEST   = KustoConnectionStringBuilder.with_aad_user_token_authentication(KUSTO_INGEST_URI, \"..-------\")"
   ]
  },
  {
   "cell_type": "code",
   "execution_count": 13,
   "metadata": {},
   "outputs": [
    {
     "data": {
      "text/html": [
       "<div>\n",
       "<style scoped>\n",
       "    .dataframe tbody tr th:only-of-type {\n",
       "        vertical-align: middle;\n",
       "    }\n",
       "\n",
       "    .dataframe tbody tr th {\n",
       "        vertical-align: top;\n",
       "    }\n",
       "\n",
       "    .dataframe thead th {\n",
       "        text-align: right;\n",
       "    }\n",
       "</style>\n",
       "<table border=\"1\" class=\"dataframe\">\n",
       "  <thead>\n",
       "    <tr style=\"text-align: right;\">\n",
       "      <th></th>\n",
       "      <th>TableName</th>\n",
       "      <th>Schema</th>\n",
       "      <th>DatabaseName</th>\n",
       "      <th>Folder</th>\n",
       "      <th>DocString</th>\n",
       "    </tr>\n",
       "  </thead>\n",
       "  <tbody>\n",
       "    <tr>\n",
       "      <th>0</th>\n",
       "      <td>InferencingEvents</td>\n",
       "      <td>{\"Name\":\"InferencingEvents\",\"OrderedColumns\":[...</td>\n",
       "      <td>llm-runner</td>\n",
       "      <td>None</td>\n",
       "      <td>None</td>\n",
       "    </tr>\n",
       "  </tbody>\n",
       "</table>\n",
       "</div>"
      ],
      "text/plain": [
       "           TableName                                             Schema  \\\n",
       "0  InferencingEvents  {\"Name\":\"InferencingEvents\",\"OrderedColumns\":[...   \n",
       "\n",
       "  DatabaseName Folder DocString  \n",
       "0   llm-runner   None      None  "
      ]
     },
     "execution_count": 13,
     "metadata": {},
     "output_type": "execute_result"
    }
   ],
   "source": [
    "KUSTO_CLIENT = KustoClient(KCSB_DATA)\n",
    "CREATE_TABLE_COMMAND = \".create table InferencingEvents (PreciseTimeStamp: datetime, Region: string, ModelVersion: string, Provider: string, n_prompt: int, n_gen: int, stream: bool, finish_reason: string, ttft: decimal, mean_tbt: decimal, ttlt: decimal)\"\n",
    "\n",
    "RESPONSE = KUSTO_CLIENT.execute_mgmt(KUSTO_DATABASE, CREATE_TABLE_COMMAND)\n",
    "\n",
    "dataframe_from_result_table(RESPONSE.primary_results[0])"
   ]
  },
  {
   "cell_type": "code",
   "execution_count": 14,
   "metadata": {},
   "outputs": [
    {
     "data": {
      "text/html": [
       "<div>\n",
       "<style scoped>\n",
       "    .dataframe tbody tr th:only-of-type {\n",
       "        vertical-align: middle;\n",
       "    }\n",
       "\n",
       "    .dataframe tbody tr th {\n",
       "        vertical-align: top;\n",
       "    }\n",
       "\n",
       "    .dataframe thead th {\n",
       "        text-align: right;\n",
       "    }\n",
       "</style>\n",
       "<table border=\"1\" class=\"dataframe\">\n",
       "  <thead>\n",
       "    <tr style=\"text-align: right;\">\n",
       "      <th></th>\n",
       "      <th>Name</th>\n",
       "      <th>Kind</th>\n",
       "      <th>Mapping</th>\n",
       "      <th>LastUpdatedOn</th>\n",
       "      <th>Database</th>\n",
       "      <th>Table</th>\n",
       "    </tr>\n",
       "  </thead>\n",
       "  <tbody>\n",
       "    <tr>\n",
       "      <th>0</th>\n",
       "      <td>InferencingEvents_TSV_Mapping</td>\n",
       "      <td>Csv</td>\n",
       "      <td>[{\"Name\":\"PreciseTimeStamp\",\"DataType\":\"dateti...</td>\n",
       "      <td>2024-04-17 03:16:52.340720+00:00</td>\n",
       "      <td>llm-runner</td>\n",
       "      <td>InferencingEvents</td>\n",
       "    </tr>\n",
       "  </tbody>\n",
       "</table>\n",
       "</div>"
      ],
      "text/plain": [
       "                            Name Kind  \\\n",
       "0  InferencingEvents_TSV_Mapping  Csv   \n",
       "\n",
       "                                             Mapping  \\\n",
       "0  [{\"Name\":\"PreciseTimeStamp\",\"DataType\":\"dateti...   \n",
       "\n",
       "                     LastUpdatedOn    Database              Table  \n",
       "0 2024-04-17 03:16:52.340720+00:00  llm-runner  InferencingEvents  "
      ]
     },
     "execution_count": 14,
     "metadata": {},
     "output_type": "execute_result"
    }
   ],
   "source": [
    "CREATE_MAPPING_COMMAND = \"\"\".create table InferencingEvents ingestion csv mapping 'InferencingEvents_TSV_Mapping' '[{\"Name\":\"PreciseTimeStamp\",\"datatype\":\"datetime\",\"Ordinal\":0}, {\"Name\":\"Region\",\"datatype\":\"string\",\"Ordinal\":1}, {\"Name\":\"ModelVersion\",\"datatype\":\"string\",\"Ordinal\":2}, {\"Name\":\"Provider\",\"datatype\":\"string\",\"Ordinal\":3}, {\"Name\":\"n_prompt\",\"datatype\":\"int\",\"Ordinal\":4}, {\"Name\":\"n_gen\",\"datatype\":\"int\",\"Ordinal\":5}, {\"Name\":\"stream\",\"datatype\":\"bool\",\"Ordinal\":6}, {\"Name\":\"finish_reason\",\"datatype\":\"string\",\"Ordinal\":7}, {\"Name\":\"ttft\",\"datatype\":\"decimal\",\"Ordinal\":8}, {\"Name\":\"mean_tbt\",\"datatype\":\"decimal\",\"Ordinal\":9}, {\"Name\":\"ttlt\",\"datatype\":\"decimal\",\"Ordinal\":10}]'\"\"\"\n",
    "\n",
    "RESPONSE = KUSTO_CLIENT.execute_mgmt(KUSTO_DATABASE, CREATE_MAPPING_COMMAND)\n",
    "\n",
    "dataframe_from_result_table(RESPONSE.primary_results[0])"
   ]
  },
  {
   "cell_type": "code",
   "execution_count": 35,
   "metadata": {},
   "outputs": [],
   "source": [
    "import io\n",
    "from datetime import datetime, timezone\n",
    "p_time = datetime.now(timezone.utc).strftime(\"%Y-%m-%d %H:%M:%S.%f\")\n",
    "n_prompt= 123\n",
    "n_gen=456\n",
    "content = io.StringIO(f\"{p_time},{n_prompt},{n_gen}\")\n",
    "    \n"
   ]
  },
  {
   "cell_type": "code",
   "execution_count": null,
   "metadata": {},
   "outputs": [],
   "source": []
  },
  {
   "cell_type": "code",
   "execution_count": 20,
   "metadata": {},
   "outputs": [
    {
     "data": {
      "text/plain": [
       "IngestionResult(status=IngestionStatus.QUEUED, database=llm-runner, table=TestEvents, source_id=ff17a293-a1d9-40f8-9c25-a4d39fa26f79, blob_uri=https://hdjkstrldllmrunners01.blob.core.windows.net/20240416-ingestdata-e5c334ee145d4b4-0/llm-runner__TestEvents__ff17a293-a1d9-40f8-9c25-a4d39fa26f79__stream.gz)"
      ]
     },
     "execution_count": 20,
     "metadata": {},
     "output_type": "execute_result"
    }
   ],
   "source": [
    "from azure.kusto.data import DataFormat\n",
    "from azure.kusto.ingest import QueuedIngestClient, IngestionProperties, FileDescriptor, BlobDescriptor, ReportLevel, ReportMethod\n",
    "\n",
    "INGESTION_CLIENT = QueuedIngestClient(KCSB_INGEST)\n",
    "\n",
    "INGESTION_PROPERTIES = IngestionProperties(database=KUSTO_DATABASE, table=\"TestEvents\", data_format=DataFormat.CSV,\n",
    "                                           ingestion_mapping_reference=\"TestEvents_CSV_Mapping\", additional_properties={'ignoreFirstRecord': 'true'})\n",
    "\n",
    "INGESTION_CLIENT.ingest_from_stream(content, ingestion_properties=INGESTION_PROPERTIES)"
   ]
  },
  {
   "cell_type": "code",
   "execution_count": 36,
   "metadata": {},
   "outputs": [
    {
     "data": {
      "text/plain": [
       "IngestionResult(status=IngestionStatus.QUEUED, database=llm-runner, table=TestEvents, source_id=02035713-6f38-4b36-a725-5f68d8052ba6, blob_uri=https://pwrkstrldllmrunners00.blob.core.windows.net/20240416-ingestdata-e5c334ee145d4b4-0/llm-runner__TestEvents__02035713-6f38-4b36-a725-5f68d8052ba6__stream.gz)"
      ]
     },
     "execution_count": 36,
     "metadata": {},
     "output_type": "execute_result"
    }
   ],
   "source": [
    "INGESTION_PROPERTIES = IngestionProperties(database=KUSTO_DATABASE, table=\"TestEvents\", data_format=DataFormat.CSV,\n",
    "                                           ingestion_mapping_reference=\"TestEvents_CSV_Mapping\", additional_properties={'ignoreFirstRecord': 'false'})\n",
    "\n",
    "INGESTION_CLIENT.ingest_from_stream(content, ingestion_properties=INGESTION_PROPERTIES)"
   ]
  },
  {
   "cell_type": "code",
   "execution_count": 22,
   "metadata": {},
   "outputs": [],
   "source": [
    "with open(\"/tmp/hi.csv\", 'r') as src:\n",
    "    INGESTION_CLIENT.ingest_from_stream(src, ingestion_properties=INGESTION_PROPERTIES)"
   ]
  },
  {
   "cell_type": "code",
   "execution_count": 34,
   "metadata": {},
   "outputs": [
    {
     "data": {
      "text/plain": [
       "'2024-04-16 04:12:35.288579'"
      ]
     },
     "execution_count": 34,
     "metadata": {},
     "output_type": "execute_result"
    }
   ],
   "source": [
    "from datetime import datetime, timezone\n",
    "p_time = \"2024-03-14 00:00:00.0000000\"\n",
    "datetime.now(timezone.utc).strftime(\"%Y-%m-%d %H:%M:%S.%f\")"
   ]
  },
  {
   "cell_type": "code",
   "execution_count": 37,
   "metadata": {},
   "outputs": [],
   "source": [
    "tenantid = \"6babcaad-604b-40ac-a9d7-9fd97c0b779f\"\n",
    "clientid = \"6e8d915a-460b-499c-a77f-10add633ef38\""
   ]
  },
  {
   "cell_type": "code",
   "execution_count": null,
   "metadata": {},
   "outputs": [],
   "source": [
    "import adal\n",
    "authority_url = 'https://login.microsoftonline.com/'+tenantid\n",
    "context = adal.AuthenticationContext(authority_url)\n",
    "token = context.acquire_token()\n",
    "\n",
    "print(token[\"accessToken\"])"
   ]
  },
  {
   "cell_type": "code",
   "execution_count": 4,
   "metadata": {},
   "outputs": [
    {
     "name": "stdout",
     "output_type": "stream",
     "text": [
      "[0, 1, 2, 3, 4, 5, 6, 6, 7, 8, 9, 10, 12, 13, 13, 13, 14, 15, 16, 16, 17, 19, 20, 20, 21, 21, 22, 22, 23, 24, 25, 25, 25, 25, 25, 28, 30, 30, 32, 35, 35, 35, 35, 36, 36, 37, 39, 40, 43, 46, 46, 48, 48, 49, 49, 49, 50, 51, 52, 53, 53, 54, 55, 57, 57, 61, 62, 62, 64, 64, 64, 64, 65, 65, 65, 65, 66, 69, 70, 74, 75, 76, 78, 81, 83, 83, 84, 85, 85, 87, 88, 91, 91, 94, 95, 97, 97, 98, 98, 100]\n"
     ]
    }
   ],
   "source": [
    "import random\n",
    "num = []\n",
    "for _ in range(100):\n",
    "    num.append(random.randint(0, 100))\n",
    "    \n",
    "print(sorted(num))"
   ]
  },
  {
   "cell_type": "code",
   "execution_count": 8,
   "metadata": {},
   "outputs": [
    {
     "name": "stdout",
     "output_type": "stream",
     "text": [
      "3316 801\n",
      "3316 56\n",
      "3316 237\n",
      "3316 845\n",
      "3316 491\n",
      "3316 506\n",
      "3316 932\n",
      "3316 347\n",
      "3316 988\n",
      "3316 896\n",
      "3998 875\n",
      "3998 950\n",
      "3998 391\n",
      "3998 359\n",
      "3998 862\n",
      "3998 229\n",
      "3998 642\n",
      "3998 965\n",
      "3998 109\n",
      "3998 259\n",
      "2142 607\n",
      "2142 76\n",
      "2142 882\n",
      "2142 96\n",
      "2142 986\n",
      "2142 373\n",
      "2142 990\n",
      "2142 437\n",
      "2142 260\n",
      "2142 751\n",
      "2221 425\n",
      "2221 439\n",
      "2221 484\n",
      "2221 489\n",
      "2221 319\n",
      "2221 281\n",
      "2221 65\n",
      "2221 956\n",
      "2221 770\n",
      "2221 362\n",
      "3956 929\n",
      "3956 201\n",
      "3956 576\n",
      "3956 673\n",
      "3956 582\n",
      "3956 794\n",
      "3956 161\n",
      "3956 399\n",
      "3956 756\n",
      "3956 499\n",
      "4184 103\n",
      "4184 188\n",
      "4184 897\n",
      "4184 859\n",
      "4184 568\n",
      "4184 295\n",
      "4184 591\n",
      "4184 231\n",
      "4184 320\n",
      "4184 551\n",
      "2375 418\n",
      "2375 291\n",
      "2375 39\n",
      "2375 61\n",
      "2375 743\n",
      "2375 99\n",
      "2375 173\n",
      "2375 161\n",
      "2375 457\n",
      "2375 289\n",
      "620 810\n",
      "620 866\n",
      "620 866\n",
      "620 866\n",
      "620 11\n",
      "620 954\n",
      "620 286\n",
      "620 605\n",
      "620 479\n",
      "620 962\n",
      "4664 618\n",
      "4664 796\n",
      "4664 408\n",
      "4664 585\n",
      "4664 800\n",
      "4664 95\n",
      "4664 358\n",
      "4664 168\n",
      "4664 186\n",
      "4664 414\n",
      "2797 983\n",
      "2797 714\n",
      "2797 819\n",
      "2797 818\n",
      "2797 439\n",
      "2797 930\n",
      "2797 149\n",
      "2797 353\n",
      "2797 209\n",
      "2797 25\n"
     ]
    }
   ],
   "source": [
    "import random\n",
    "min_prompt_len:int=50\n",
    "max_prompt_len:int=5000\n",
    "min_gen_len:int=10\n",
    "max_gen_len:int=1000\n",
    "i=10\n",
    "\n",
    "while i>0:\n",
    "    x = random.randint(min_prompt_len, max_prompt_len)\n",
    "    j=10\n",
    "    i-=1\n",
    "    while j>0:\n",
    "        y = random.randint(min_gen_len, max_gen_len)\n",
    "        j-=1\n",
    "        print(x,y)"
   ]
  }
 ],
 "metadata": {
  "kernelspec": {
   "display_name": "venv",
   "language": "python",
   "name": "python3"
  },
  "language_info": {
   "codemirror_mode": {
    "name": "ipython",
    "version": 3
   },
   "file_extension": ".py",
   "mimetype": "text/x-python",
   "name": "python",
   "nbconvert_exporter": "python",
   "pygments_lexer": "ipython3",
   "version": "3.10.12"
  }
 },
 "nbformat": 4,
 "nbformat_minor": 2
}
