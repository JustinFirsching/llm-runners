{
 "cells": [
  {
   "cell_type": "code",
   "execution_count": 2,
   "metadata": {},
   "outputs": [],
   "source": [
    "from azure.kusto.data import KustoClient, KustoConnectionStringBuilder\n",
    "from azure.kusto.data.exceptions import KustoServiceError\n",
    "from azure.kusto.data.helpers import dataframe_from_result_table"
   ]
  },
  {
   "cell_type": "code",
   "execution_count": 3,
   "metadata": {},
   "outputs": [],
   "source": [
    "AAD_TENANT_ID = \"6babcaad-604b-40ac-a9d7-9fd97c0b779f\"\n",
    "KUSTO_URI = \"https://llm-runners.eastus.kusto.windows.net\"\n",
    "KUSTO_INGEST_URI = \"https://ingest-llm-runners.eastus.kusto.windows.net\"\n",
    "KUSTO_DATABASE = \"llm-runner\""
   ]
  },
  {
   "cell_type": "code",
   "execution_count": 4,
   "metadata": {},
   "outputs": [],
   "source": [
    "KCSB_DATA  = KustoConnectionStringBuilder.with_aad_user_token_authentication(KUSTO_URI,\"..------\")\n",
    "KCSB_INGEST   = KustoConnectionStringBuilder.with_aad_user_token_authentication(KUSTO_INGEST_URI, \"..-------\")"
   ]
  },
  {
   "cell_type": "code",
   "execution_count": 6,
   "metadata": {},
   "outputs": [
    {
     "data": {
      "text/html": [
       "<div>\n",
       "<style scoped>\n",
       "    .dataframe tbody tr th:only-of-type {\n",
       "        vertical-align: middle;\n",
       "    }\n",
       "\n",
       "    .dataframe tbody tr th {\n",
       "        vertical-align: top;\n",
       "    }\n",
       "\n",
       "    .dataframe thead th {\n",
       "        text-align: right;\n",
       "    }\n",
       "</style>\n",
       "<table border=\"1\" class=\"dataframe\">\n",
       "  <thead>\n",
       "    <tr style=\"text-align: right;\">\n",
       "      <th></th>\n",
       "      <th>TableName</th>\n",
       "      <th>Schema</th>\n",
       "      <th>DatabaseName</th>\n",
       "      <th>Folder</th>\n",
       "      <th>DocString</th>\n",
       "    </tr>\n",
       "  </thead>\n",
       "  <tbody>\n",
       "    <tr>\n",
       "      <th>0</th>\n",
       "      <td>TestEvents</td>\n",
       "      <td>{\"Name\":\"TestEvents\",\"OrderedColumns\":[{\"Name\"...</td>\n",
       "      <td>llm-runner</td>\n",
       "      <td>None</td>\n",
       "      <td>None</td>\n",
       "    </tr>\n",
       "  </tbody>\n",
       "</table>\n",
       "</div>"
      ],
      "text/plain": [
       "    TableName                                             Schema DatabaseName  \\\n",
       "0  TestEvents  {\"Name\":\"TestEvents\",\"OrderedColumns\":[{\"Name\"...   llm-runner   \n",
       "\n",
       "  Folder DocString  \n",
       "0   None      None  "
      ]
     },
     "execution_count": 6,
     "metadata": {},
     "output_type": "execute_result"
    }
   ],
   "source": [
    "KUSTO_CLIENT = KustoClient(KCSB_DATA)\n",
    "CREATE_TABLE_COMMAND = \".create table TestEvents (PreciseTimeStamp: datetime, n_prompt: int, n_gen: int)\"\n",
    "\n",
    "RESPONSE = KUSTO_CLIENT.execute_mgmt(KUSTO_DATABASE, CREATE_TABLE_COMMAND)\n",
    "\n",
    "dataframe_from_result_table(RESPONSE.primary_results[0])"
   ]
  },
  {
   "cell_type": "code",
   "execution_count": 7,
   "metadata": {},
   "outputs": [
    {
     "data": {
      "text/html": [
       "<div>\n",
       "<style scoped>\n",
       "    .dataframe tbody tr th:only-of-type {\n",
       "        vertical-align: middle;\n",
       "    }\n",
       "\n",
       "    .dataframe tbody tr th {\n",
       "        vertical-align: top;\n",
       "    }\n",
       "\n",
       "    .dataframe thead th {\n",
       "        text-align: right;\n",
       "    }\n",
       "</style>\n",
       "<table border=\"1\" class=\"dataframe\">\n",
       "  <thead>\n",
       "    <tr style=\"text-align: right;\">\n",
       "      <th></th>\n",
       "      <th>Name</th>\n",
       "      <th>Kind</th>\n",
       "      <th>Mapping</th>\n",
       "      <th>LastUpdatedOn</th>\n",
       "      <th>Database</th>\n",
       "      <th>Table</th>\n",
       "    </tr>\n",
       "  </thead>\n",
       "  <tbody>\n",
       "    <tr>\n",
       "      <th>0</th>\n",
       "      <td>TestEvents_CSV_Mapping</td>\n",
       "      <td>Csv</td>\n",
       "      <td>[{\"Name\":\"PreciseTimeStamp\",\"DataType\":\"dateti...</td>\n",
       "      <td>2024-04-16 03:35:15.163397600+00:00</td>\n",
       "      <td>llm-runner</td>\n",
       "      <td>TestEvents</td>\n",
       "    </tr>\n",
       "  </tbody>\n",
       "</table>\n",
       "</div>"
      ],
      "text/plain": [
       "                     Name Kind  \\\n",
       "0  TestEvents_CSV_Mapping  Csv   \n",
       "\n",
       "                                             Mapping  \\\n",
       "0  [{\"Name\":\"PreciseTimeStamp\",\"DataType\":\"dateti...   \n",
       "\n",
       "                        LastUpdatedOn    Database       Table  \n",
       "0 2024-04-16 03:35:15.163397600+00:00  llm-runner  TestEvents  "
      ]
     },
     "execution_count": 7,
     "metadata": {},
     "output_type": "execute_result"
    }
   ],
   "source": [
    "CREATE_MAPPING_COMMAND = \"\"\".create table TestEvents ingestion csv mapping 'TestEvents_CSV_Mapping' '[{\"Name\":\"PreciseTimeStamp\",\"datatype\":\"datetime\",\"Ordinal\":0}, {\"Name\":\"n_prompt\",\"datatype\":\"int\",\"Ordinal\":1},{\"Name\":\"n_gen\",\"datatype\":\"int\",\"Ordinal\":2}]'\"\"\"\n",
    "\n",
    "RESPONSE = KUSTO_CLIENT.execute_mgmt(KUSTO_DATABASE, CREATE_MAPPING_COMMAND)\n",
    "\n",
    "dataframe_from_result_table(RESPONSE.primary_results[0])"
   ]
  },
  {
   "cell_type": "code",
   "execution_count": 35,
   "metadata": {},
   "outputs": [],
   "source": [
    "import io\n",
    "from datetime import datetime, timezone\n",
    "p_time = datetime.now(timezone.utc).strftime(\"%Y-%m-%d %H:%M:%S.%f\")\n",
    "n_prompt= 123\n",
    "n_gen=456\n",
    "content = io.StringIO(f\"{p_time},{n_prompt},{n_gen}\")\n",
    "    \n"
   ]
  },
  {
   "cell_type": "code",
   "execution_count": 20,
   "metadata": {},
   "outputs": [
    {
     "data": {
      "text/plain": [
       "IngestionResult(status=IngestionStatus.QUEUED, database=llm-runner, table=TestEvents, source_id=ff17a293-a1d9-40f8-9c25-a4d39fa26f79, blob_uri=https://hdjkstrldllmrunners01.blob.core.windows.net/20240416-ingestdata-e5c334ee145d4b4-0/llm-runner__TestEvents__ff17a293-a1d9-40f8-9c25-a4d39fa26f79__stream.gz)"
      ]
     },
     "execution_count": 20,
     "metadata": {},
     "output_type": "execute_result"
    }
   ],
   "source": [
    "from azure.kusto.data import DataFormat\n",
    "from azure.kusto.ingest import QueuedIngestClient, IngestionProperties, FileDescriptor, BlobDescriptor, ReportLevel, ReportMethod\n",
    "\n",
    "INGESTION_CLIENT = QueuedIngestClient(KCSB_INGEST)\n",
    "\n",
    "INGESTION_PROPERTIES = IngestionProperties(database=KUSTO_DATABASE, table=\"TestEvents\", data_format=DataFormat.CSV,\n",
    "                                           ingestion_mapping_reference=\"TestEvents_CSV_Mapping\", additional_properties={'ignoreFirstRecord': 'true'})\n",
    "\n",
    "INGESTION_CLIENT.ingest_from_stream(content, ingestion_properties=INGESTION_PROPERTIES)"
   ]
  },
  {
   "cell_type": "code",
   "execution_count": 36,
   "metadata": {},
   "outputs": [
    {
     "data": {
      "text/plain": [
       "IngestionResult(status=IngestionStatus.QUEUED, database=llm-runner, table=TestEvents, source_id=02035713-6f38-4b36-a725-5f68d8052ba6, blob_uri=https://pwrkstrldllmrunners00.blob.core.windows.net/20240416-ingestdata-e5c334ee145d4b4-0/llm-runner__TestEvents__02035713-6f38-4b36-a725-5f68d8052ba6__stream.gz)"
      ]
     },
     "execution_count": 36,
     "metadata": {},
     "output_type": "execute_result"
    }
   ],
   "source": [
    "INGESTION_PROPERTIES = IngestionProperties(database=KUSTO_DATABASE, table=\"TestEvents\", data_format=DataFormat.CSV,\n",
    "                                           ingestion_mapping_reference=\"TestEvents_CSV_Mapping\", additional_properties={'ignoreFirstRecord': 'false'})\n",
    "\n",
    "INGESTION_CLIENT.ingest_from_stream(content, ingestion_properties=INGESTION_PROPERTIES)"
   ]
  },
  {
   "cell_type": "code",
   "execution_count": 22,
   "metadata": {},
   "outputs": [],
   "source": [
    "with open(\"/tmp/hi.csv\", 'r') as src:\n",
    "    INGESTION_CLIENT.ingest_from_stream(src, ingestion_properties=INGESTION_PROPERTIES)"
   ]
  },
  {
   "cell_type": "code",
   "execution_count": 34,
   "metadata": {},
   "outputs": [
    {
     "data": {
      "text/plain": [
       "'2024-04-16 04:12:35.288579'"
      ]
     },
     "execution_count": 34,
     "metadata": {},
     "output_type": "execute_result"
    }
   ],
   "source": [
    "from datetime import datetime, timezone\n",
    "p_time = \"2024-03-14 00:00:00.0000000\"\n",
    "datetime.now(timezone.utc).strftime(\"%Y-%m-%d %H:%M:%S.%f\")"
   ]
  },
  {
   "cell_type": "code",
   "execution_count": 37,
   "metadata": {},
   "outputs": [],
   "source": [
    "tenantid = \"6babcaad-604b-40ac-a9d7-9fd97c0b779f\"\n",
    "clientid = \"6e8d915a-460b-499c-a77f-10add633ef38\""
   ]
  },
  {
   "cell_type": "code",
   "execution_count": null,
   "metadata": {},
   "outputs": [],
   "source": [
    "import adal\n",
    "authority_url = 'https://login.microsoftonline.com/'+tenantid\n",
    "context = adal.AuthenticationContext(authority_url)\n",
    "token = context.acquire_token()\n",
    "\n",
    "print(token[\"accessToken\"])"
   ]
  }
 ],
 "metadata": {
  "kernelspec": {
   "display_name": "venv",
   "language": "python",
   "name": "python3"
  },
  "language_info": {
   "codemirror_mode": {
    "name": "ipython",
    "version": 3
   },
   "file_extension": ".py",
   "mimetype": "text/x-python",
   "name": "python",
   "nbconvert_exporter": "python",
   "pygments_lexer": "ipython3",
   "version": "3.10.12"
  }
 },
 "nbformat": 4,
 "nbformat_minor": 2
}
