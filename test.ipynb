{
 "cells": [
  {
   "cell_type": "code",
   "execution_count": 14,
   "metadata": {},
   "outputs": [
    {
     "name": "stdout",
     "output_type": "stream",
     "text": [
      "env: AZURE_OPENAI_API_KEY=5f0265102e00436f9f4a48c6684de98a\n"
     ]
    }
   ],
   "source": [
    "import wikipediaapi "
   ]
  },
  {
   "cell_type": "code",
   "execution_count": 43,
   "metadata": {},
   "outputs": [
    {
     "ename": "TypeError",
     "evalue": "cannot unpack non-iterable types.GenericAlias object",
     "output_type": "error",
     "traceback": [
      "\u001b[0;31m---------------------------------------------------------------------------\u001b[0m",
      "\u001b[0;31mTypeError\u001b[0m                                 Traceback (most recent call last)",
      "Cell \u001b[0;32mIn[43], line 11\u001b[0m\n\u001b[1;32m      8\u001b[0m         (i, j) \u001b[38;5;241m=\u001b[39m ins\n\u001b[1;32m      9\u001b[0m         \u001b[38;5;28mprint\u001b[39m(i, j)\n\u001b[0;32m---> 11\u001b[0m \u001b[43mfn1\u001b[49m\u001b[43m(\u001b[49m\u001b[43m)\u001b[49m\n",
      "Cell \u001b[0;32mIn[43], line 8\u001b[0m, in \u001b[0;36mfn1\u001b[0;34m()\u001b[0m\n\u001b[1;32m      6\u001b[0m res:\u001b[38;5;28mlist\u001b[39m[\u001b[38;5;28mtuple\u001b[39m[\u001b[38;5;28mint\u001b[39m, \u001b[38;5;28mint\u001b[39m]] \u001b[38;5;241m=\u001b[39m fn()\n\u001b[1;32m      7\u001b[0m \u001b[38;5;28;01mfor\u001b[39;00m ins \u001b[38;5;129;01min\u001b[39;00m res:\n\u001b[0;32m----> 8\u001b[0m     (i, j) \u001b[38;5;241m=\u001b[39m ins\n\u001b[1;32m      9\u001b[0m     \u001b[38;5;28mprint\u001b[39m(i, j)\n",
      "\u001b[0;31mTypeError\u001b[0m: cannot unpack non-iterable types.GenericAlias object"
     ]
    }
   ],
   "source": [
    "def fn():\n",
    "    for i in range(10):\n",
    "        yield tuple[i, i*i]\n",
    "\n",
    "def fn1():\n",
    "    res:list[tuple[int, int]] = fn()\n",
    "    for ins in res:\n",
    "        (i, j) = ins\n",
    "        print(i, j)\n",
    "\n",
    "fn1()\n",
    "    b"
   ]
  },
  {
   "cell_type": "code",
   "execution_count": 48,
   "metadata": {},
   "outputs": [
    {
     "ename": "TypeError",
     "evalue": "cannot unpack non-iterable types.GenericAlias object",
     "output_type": "error",
     "traceback": [
      "\u001b[0;31m---------------------------------------------------------------------------\u001b[0m",
      "\u001b[0;31mTypeError\u001b[0m                                 Traceback (most recent call last)",
      "Cell \u001b[0;32mIn[48], line 13\u001b[0m\n\u001b[1;32m     10\u001b[0m         i, j \u001b[38;5;241m=\u001b[39m ins\n\u001b[1;32m     11\u001b[0m         \u001b[38;5;28mprint\u001b[39m(i, j)\n\u001b[0;32m---> 13\u001b[0m \u001b[43mfn1\u001b[49m\u001b[43m(\u001b[49m\u001b[43m)\u001b[49m\n",
      "Cell \u001b[0;32mIn[48], line 10\u001b[0m, in \u001b[0;36mfn1\u001b[0;34m()\u001b[0m\n\u001b[1;32m      8\u001b[0m res:\u001b[38;5;28mlist\u001b[39m[\u001b[38;5;28mtuple\u001b[39m[\u001b[38;5;28mint\u001b[39m, \u001b[38;5;28mint\u001b[39m]] \u001b[38;5;241m=\u001b[39m fn()\n\u001b[1;32m      9\u001b[0m \u001b[38;5;28;01mfor\u001b[39;00m ins \u001b[38;5;129;01min\u001b[39;00m res:\n\u001b[0;32m---> 10\u001b[0m     i, j \u001b[38;5;241m=\u001b[39m ins\n\u001b[1;32m     11\u001b[0m     \u001b[38;5;28mprint\u001b[39m(i, j)\n",
      "\u001b[0;31mTypeError\u001b[0m: cannot unpack non-iterable types.GenericAlias object"
     ]
    }
   ],
   "source": [
    "def fn():\n",
    "    result = []\n",
    "    for i in range(10):\n",
    "        result.append(i, i*i)\n",
    "    return result\n",
    "\n",
    "def fn1():\n",
    "    res:list[tuple[int, int]] = fn()\n",
    "    for ins in res:\n",
    "        i, j = ins\n",
    "        print(i, j)\n",
    "\n",
    "fn1()\n",
    "    "
   ]
  }
 ],
 "metadata": {
  "kernelspec": {
   "display_name": "venv",
   "language": "python",
   "name": "python3"
  },
  "language_info": {
   "codemirror_mode": {
    "name": "ipython",
    "version": 3
   },
   "file_extension": ".py",
   "mimetype": "text/x-python",
   "name": "python",
   "nbconvert_exporter": "python",
   "pygments_lexer": "ipython3",
   "version": "3.10.12"
  }
 },
 "nbformat": 4,
 "nbformat_minor": 2
}
